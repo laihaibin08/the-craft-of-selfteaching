
































%%bash
which git
git --version

# 没有的话就执行以下命令安装 git
# conda install -c anaconda git











%%bash
cd ~/dl/
# 总计 275M (文件大小随版本变动），所以需要一点时间
git clone --config http.proxy="http://127.0.0.1:10809" https://github.com/python/cpython.git
cd cpython/Doc/tutorial
ls


# windows10x64
1. 由于没有找到在 windows 中运行上述 bash的方法，因此将 bash 进行拆分，逐条在 Anaconda Powershell Prompt 中运行，结果存于 E:\.Config\Jupyterlab\The-Python-Tutorial
2. 考虑到本地连接 github 非常慢，在 git clone 中增加了 proxy 参数。

# ubuntu
1. 目录位于 ~/dl/ (C:\Users\admin\AppData\Local\Packages\CanonicalGroupLimited.UbuntuonWindows_79rhkp1fndgsc\LocalState\rootfs\home\dellg3ubt\dl\)






%%bash
# rst2ipynb needs pandoc and notedown...
which pandoc
which notedown
# 没有这两样东西的话，需要执行下面两行进行安装……
# conda install -c conda-forge pandoc
# conda install -c conda-forge notedown

# install rst2ipynb
cd ~/dl/
git clone --config http.proxy="http://127.0.0.1:10809" https://github.com/nthiery/rst-to-ipynb.git
cd rst-to-ipynb
pip install .
which rst2ipynb


# windows10x64









%%bash
cd ~/dl/cpython/Doc/tutorial/ 
for f in *.rst
    do
        rst2ipynb $f -o ${f/%.rst/.ipynb}
    done
mkdir ipynbs
mv *.ipynb ipynbs/








%%bash 
which sphinx-quickstart
# 没有的话就执行下一行：
# conda install -c anaconda sphinx
sphinx-quickstart --version
sphinx-quickstart --help





%%bash
cd ~/Downloads/cpython/Doc/tutorial/ 
sphinx-quickstart -q output --sep -p 'The Python Tutorial' -a 'Guido van Rossum' -r '1.0' -v '1.0' -l 'en' --suffix '.rst' --master 'index' --ext-autodoc --ext-doctest --ext-intersphinx --ext-todo --ext-coverage --ext-imgmath --ext-mathjax --ext-ifconfig --ext-viewcode --makefile --no-batchfile --no-use-make-mode
cp -f *.rst output/source/
cd output
make html
make epub

# 生成的 html 版本应该在 output/build/html 目录下；
# 生成的 epub 版本应该在 output/build/epub 目录下。

# sphinx-quickstart -q output \
# --sep \
# -p 'The Python Tutorial' \
# -a 'Guido van Rossum' \
# -v '1.0'
# -r '1.0' \
# -l 'en' \
# --suffix '.rst' \
# --master 'index' \
# --ext-autodoc \
# --ext-doctest \
# --ext-intersphinx \
# --ext-todo \
# --ext-coverage \
# --ext-imgmath \
# --ext-mathjax \
# --ext-ifconfig \
# --ext-viewcode \
# --makefile \
# --no-batchfile \
# --no-use-make-mode











%%bash
cd ~/Downloads
git clone https://github.com/xiaolai/the-python-tutorial-in-other-formats.git









