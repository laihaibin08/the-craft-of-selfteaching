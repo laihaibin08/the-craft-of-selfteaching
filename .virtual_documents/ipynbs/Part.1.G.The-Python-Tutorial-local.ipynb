
































%%bash
which git
git --version

# 没有的话就执行以下命令安装 git
# conda install -c anaconda git











%%bash
cd ~/dl/
# 总计 275M (文件大小随版本变动），所以需要一点时间
git clone --config http.proxy="http://127.0.0.1:10809" https://github.com/python/cpython.git
cd cpython/Doc/tutorial
ls





%%bash
# rst2ipynb needs pandoc and notedown...
which pandoc
which notedown
# 没有这两样东西的话，需要执行下面两行进行安装……
# conda install -c conda-forge pandoc
# conda install -c conda-forge notedown

# install rst2ipynb
cd ~/dl/
git clone --config http.proxy="http://127.0.0.1:10809" https://github.com/nthiery/rst-to-ipynb.git
cd rst-to-ipynb
pip install .
which rst2ipynb








%%bash
cd ~/dl/cpython/Doc/tutorial/ 
for f in *.rst
    do
        rst2ipynb $f -o ${f/%.rst/.ipynb}
    done
mkdir ipynbs
mv *.ipynb ipynbs/








%%bash 
which sphinx-quickstart
# 没有的话就执行下一行：
# conda install -c anaconda sphinx
sphinx-quickstart --version
sphinx-quickstart --help





%%bash
cd ~/Downloads/cpython/Doc/tutorial/ 
sphinx-quickstart -q output --sep -p 'The Python Tutorial' -a 'Guido van Rossum' -r '1.0' -v '1.0' -l 'en' --suffix '.rst' --master 'index' --ext-autodoc --ext-doctest --ext-intersphinx --ext-todo --ext-coverage --ext-imgmath --ext-mathjax --ext-ifconfig --ext-viewcode --makefile --no-batchfile --no-use-make-mode
cp -f *.rst output/source/
cd output
make html
make epub

# 生成的 html 版本应该在 output/build/html 目录下；
# 生成的 epub 版本应该在 output/build/epub 目录下。

# sphinx-quickstart -q output \
# --sep \
# -p 'The Python Tutorial' \
# -a 'Guido van Rossum' \
# -v '1.0'
# -r '1.0' \
# -l 'en' \
# --suffix '.rst' \
# --master 'index' \
# --ext-autodoc \
# --ext-doctest \
# --ext-intersphinx \
# --ext-todo \
# --ext-coverage \
# --ext-imgmath \
# --ext-mathjax \
# --ext-ifconfig \
# --ext-viewcode \
# --makefile \
# --no-batchfile \
# --no-use-make-mode











%%bash
cd ~/Downloads
git clone https://github.com/xiaolai/the-python-tutorial-in-other-formats.git









