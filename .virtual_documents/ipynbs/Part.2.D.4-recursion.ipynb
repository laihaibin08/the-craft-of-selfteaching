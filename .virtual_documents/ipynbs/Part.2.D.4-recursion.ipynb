











def f(n):
    if n == 1:
        return 1
    else:
        return n * f(n-1)
    
print(f(5))











def f(n):
    print('\tn =', n)
    if n == 1:
        print('Returning...')
        print('\tn =', n, 'return:', 1)
        return 1
    else:
        r = n * f(n-1)
        print('\tn =', n, 'return:', r)
        return r
    
print('Call f(5)...')
print('Get out of f(n), and f(5) =', f(5))














import random

def in_dream(day=0, dead=False, kicked=False):
    dead = not random.randrange(0,10) # 1/10 probability to be dead
    kicked = not random.randrange(0,10) # 1/10 probability to be kicked
    day += 1
    print('dead:', dead, 'kicked:', kicked)
    
    if dead:
        print((f"I slept {day} days, and was dead to wake up..."))
        return day
    elif kicked:
        print(f"I slept {day} days, and was kicked to wake up...")
        return day
    
    return in_dream(day)
    
print('The in_dream() function returns:', in_dream())





def x(n):
    return n * x(n-1)
x(5)











def factorial(n):
    if n == 1:
        return 1
    else:
        return n * factorial(n-1)
    
print(factorial(5))








def factorial(n):
    if n == 1:
        return 1
    else:
        return n * factorial(n-1)
    
a = 5
b = factorial(a)   # a 并不会因此改变；
print(a, b)
a = factorial(a)   # 这是你主动为 a 再一次赋值……
print(a, b)





def factorial(n):
    if n == 1:
        return 1
    else:
        return n * factorial(n-1)
    
n = 5              # 这一次，这个变量名称是 n
m = factorial(n)   # n 并不会因此改变；
print(n, m)





def factorial(x): # 在这个语句块中出现的变量，都是局部变量
    if x == 1:
        return 1
    else:
        return x * factorial(x-1)
    
n = 5           # 这一次，这个变量名称是 n
m = factorial(n)   # n 并不会因此改变；
print(n, m)
# 这个例子和之前再之前的示例代码有什么区别吗？
# 本质上没区别，就是变量名称换了而已……

































